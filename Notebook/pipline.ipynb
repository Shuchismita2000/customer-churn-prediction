{
 "cells": [
  {
   "cell_type": "code",
   "execution_count": null,
   "metadata": {},
   "outputs": [],
   "source": [
    "import streamlit as st\n",
    "from joblib import load\n",
    "import numpy as np\n",
    "import pandas as pd\n",
    "\n",
    "\n",
    "# Load the model\n",
    "#@st.cache_data(allow_output_mutation=True)\n",
    "\n",
    "\n",
    "# Load the trained model encoders, scalers, and label encoders\n",
    "scaler = load('pipeline/scaler.joblib')\n",
    "label_encoders = {\n",
    "    'Zip Code': load('pipeline/Zip Code_label_encoder.joblib'),\n",
    "    'Internet Service': load('pipeline/Internet Service_label_encoder.joblib'),\n",
    "    'Online Security': load('pipeline/Online Security_label_encoder.joblib'),\n",
    "    'Tech Support': load('pipeline/Tech Support_label_encoder.joblib'),\n",
    "    'Contract': load('pipeline/Contract_label_encoder.joblib'),\n",
    "    'Dependents': load('pipeline/Dependents_label_encoder.joblib'),\n",
    "}\n",
    "\n",
    "def preprocess_data(df):\n",
    "    # Select relevant features\n",
    "    features = ['Zip Code', 'Internet Service', 'Online Security', 'Tech Support', 'Contract', 'Dependents', 'Tenure Months', 'Monthly Charges', 'CLTV']\n",
    "    df = df[features]\n",
    "\n",
    "    # Handle missing values\n",
    "    df.fillna(method='ffill', inplace=True)\n",
    "\n",
    "    # Encode categorical features using LabelEncoders\n",
    "    categorical_features = ['Internet Service', 'Online Security', 'Tech Support', 'Contract', 'Dependents', 'Zip Code']\n",
    "    for feature in categorical_features:\n",
    "        df[feature] = label_encoders[feature].transform(df[feature])\n",
    "    \n",
    "    # Scale numerical features\n",
    "    numerical_features = ['Tenure Months', 'Monthly Charges', 'CLTV']\n",
    "    df[numerical_features] = scaler.transform(df[numerical_features])\n",
    "\n",
    "    return df\n",
    "\n",
    "def load_model():\n",
    "    model = load('pipeline/xgb.pkl')\n",
    "    return model\n",
    "\n",
    "model = load_model()\n",
    "\n",
    "input_data = []\n",
    "# Preprocess the input data\n",
    "preprocessed_data = preprocess_data(input_data)\n",
    "    \n",
    "# Make prediction\n",
    "prediction = model.predict(preprocessed_data)\n",
    "churn_prob = model.predict_proba(preprocessed_data)[0][1]\n",
    "print(f'The predicted churn status is: {\"Churn\" if prediction[0] == 1 else \"No Churn\"}')\n",
    "print(f'The probability of churn is: {churn_prob:.2f}')       "
   ]
  },
  {
   "cell_type": "markdown",
   "metadata": {},
   "source": []
  }
 ],
 "metadata": {
  "language_info": {
   "name": "python"
  }
 },
 "nbformat": 4,
 "nbformat_minor": 2
}
