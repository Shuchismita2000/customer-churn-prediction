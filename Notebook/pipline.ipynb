{
 "cells": [
  {
   "cell_type": "code",
   "execution_count": 10,
   "metadata": {},
   "outputs": [],
   "source": [
    "from joblib import load\n",
    "import numpy as np\n",
    "import pandas as pd"
   ]
  },
  {
   "cell_type": "code",
   "execution_count": 11,
   "metadata": {},
   "outputs": [],
   "source": [
    "# Load the trained model encoders, scalers, and label encoders\n",
    "\n",
    "pipeline_path = r\"D:\\Portfolio Github\\customer-churn-prediction\\pipeline\"\n",
    "scaler = {\n",
    " 'Tenure Months': load(f\"{pipeline_path}\\Tenure Months_scaler.joblib\"),\n",
    " 'Monthly Charges': load(f\"{pipeline_path}\\Monthly Charges_scaler.joblib\"),\n",
    " 'CLTV': load(f\"{pipeline_path}\\CLTV_scaler.joblib\"),\n",
    "\n",
    "}\n",
    "label_encoders = {\n",
    "    'City': load(f\"{pipeline_path}\\City_label_encoder.joblib\"),\n",
    "    'Zip Code': load(f\"{pipeline_path}\\Zip Code_label_encoder.joblib\"),\n",
    "    'Internet Service': load(f\"{pipeline_path}\\Internet Service_label_encoder.joblib\"),\n",
    "    'Online Security': load(f\"{pipeline_path}\\Online Security_label_encoder.joblib\"),\n",
    "    'Tech Support': load(f\"{pipeline_path}\\Tech Support_label_encoder.joblib\"),\n",
    "    'Contract': load(f\"{pipeline_path}\\Contract_label_encoder.joblib\"),\n",
    "    'Dependents': load(f\"{pipeline_path}\\Dependents_label_encoder.joblib\"),\n",
    "}"
   ]
  },
  {
   "cell_type": "code",
   "execution_count": 12,
   "metadata": {},
   "outputs": [],
   "source": [
    "def preprocess_data(df):\n",
    "    # Select relevant features\n",
    "    features = ['Zip Code', 'Dependents', 'Tenure Months', 'Internet Service', 'Online Security', 'Tech Support', 'Contract', 'Monthly Charges', 'CLTV']\n",
    "    df = df[features]\n",
    "\n",
    "    # Handle missing values\n",
    "    df.fillna(method='ffill', inplace=True)\n",
    "\n",
    "    # Encode categorical features using LabelEncoders\n",
    "    categorical_features = ['Zip Code','Internet Service', 'Online Security', 'Tech Support', 'Contract', 'Dependents']\n",
    "    for feature in categorical_features:\n",
    "        try:\n",
    "            df[feature] = label_encoders[feature].transform(df[feature])\n",
    "        except ValueError as e:\n",
    "            unseen_label = str(e).split(': ')[1]\n",
    "            print(f\"Warning: Unseen label '{unseen_label}' encountered. Assigning default value.\")\n",
    "            df[feature] = df[feature].apply(lambda x: label_encoders[feature].transform([x])[0] if x in label_encoders[feature].classes_ else np.nan)\n",
    "            df[feature].fillna(label_encoders[feature].transform([label_encoders[feature].classes_[0]])[0], inplace=True)  # Assign a default value\n",
    "    \n",
    "    # Scale numerical features\n",
    "    numerical_features = ['Tenure Months', 'Monthly Charges', 'CLTV']\n",
    "    for feature in numerical_features:\n",
    "        df[[feature]] = scaler[feature].transform(df[[feature]])\n",
    "\n",
    "    return df"
   ]
  },
  {
   "cell_type": "code",
   "execution_count": 13,
   "metadata": {},
   "outputs": [],
   "source": [
    "def load_model():\n",
    "    model = load(f\"{pipeline_path}/xgb.pkl\")\n",
    "    return model\n",
    "\n",
    "model = load_model()"
   ]
  },
  {
   "cell_type": "code",
   "execution_count": 14,
   "metadata": {},
   "outputs": [],
   "source": [
    "df = pd.read_csv(r\"D:/customer-churn-prediction/sample_customer_churn.csv\")"
   ]
  },
  {
   "cell_type": "code",
   "execution_count": 15,
   "metadata": {},
   "outputs": [
    {
     "data": {
      "text/plain": [
       "Index(['CustomerID', 'Count', 'Zip Code', 'City', 'Gender', 'Senior Citizen',\n",
       "       'Partner', 'Dependents', 'Tenure Months', 'Phone Service',\n",
       "       'Multiple Lines', 'Internet Service', 'Online Security',\n",
       "       'Online Backup', 'Device Protection', 'Tech Support', 'Streaming TV',\n",
       "       'Streaming Movies', 'Contract', 'Paperless Billing', 'Payment Method',\n",
       "       'Monthly Charges', 'Total Charges', 'CLTV'],\n",
       "      dtype='object')"
      ]
     },
     "execution_count": 15,
     "metadata": {},
     "output_type": "execute_result"
    }
   ],
   "source": [
    "df.columns"
   ]
  },
  {
   "cell_type": "code",
   "execution_count": 16,
   "metadata": {},
   "outputs": [
    {
     "name": "stdout",
     "output_type": "stream",
     "text": [
      "Warning: Unseen label '[90089]' encountered. Assigning default value.\n"
     ]
    },
    {
     "name": "stderr",
     "output_type": "stream",
     "text": [
      "C:\\Users\\SHUCHISMITA MALLICK\\AppData\\Local\\Temp\\ipykernel_4692\\1363821498.py:7: FutureWarning: DataFrame.fillna with 'method' is deprecated and will raise in a future version. Use obj.ffill() or obj.bfill() instead.\n",
      "  df.fillna(method='ffill', inplace=True)\n",
      "C:\\Users\\SHUCHISMITA MALLICK\\AppData\\Local\\Temp\\ipykernel_4692\\1363821498.py:7: SettingWithCopyWarning: \n",
      "A value is trying to be set on a copy of a slice from a DataFrame\n",
      "\n",
      "See the caveats in the documentation: https://pandas.pydata.org/pandas-docs/stable/user_guide/indexing.html#returning-a-view-versus-a-copy\n",
      "  df.fillna(method='ffill', inplace=True)\n",
      "C:\\Users\\SHUCHISMITA MALLICK\\AppData\\Local\\Temp\\ipykernel_4692\\1363821498.py:17: SettingWithCopyWarning: \n",
      "A value is trying to be set on a copy of a slice from a DataFrame.\n",
      "Try using .loc[row_indexer,col_indexer] = value instead\n",
      "\n",
      "See the caveats in the documentation: https://pandas.pydata.org/pandas-docs/stable/user_guide/indexing.html#returning-a-view-versus-a-copy\n",
      "  df[feature] = df[feature].apply(lambda x: label_encoders[feature].transform([x])[0] if x in label_encoders[feature].classes_ else np.nan)\n",
      "C:\\Users\\SHUCHISMITA MALLICK\\AppData\\Local\\Temp\\ipykernel_4692\\1363821498.py:18: FutureWarning: A value is trying to be set on a copy of a DataFrame or Series through chained assignment using an inplace method.\n",
      "The behavior will change in pandas 3.0. This inplace method will never work because the intermediate object on which we are setting values always behaves as a copy.\n",
      "\n",
      "For example, when doing 'df[col].method(value, inplace=True)', try using 'df.method({col: value}, inplace=True)' or df[col] = df[col].method(value) instead, to perform the operation inplace on the original object.\n",
      "\n",
      "\n",
      "  df[feature].fillna(label_encoders[feature].transform([label_encoders[feature].classes_[0]])[0], inplace=True)  # Assign a default value\n",
      "C:\\Users\\SHUCHISMITA MALLICK\\AppData\\Local\\Temp\\ipykernel_4692\\1363821498.py:18: SettingWithCopyWarning: \n",
      "A value is trying to be set on a copy of a slice from a DataFrame\n",
      "\n",
      "See the caveats in the documentation: https://pandas.pydata.org/pandas-docs/stable/user_guide/indexing.html#returning-a-view-versus-a-copy\n",
      "  df[feature].fillna(label_encoders[feature].transform([label_encoders[feature].classes_[0]])[0], inplace=True)  # Assign a default value\n",
      "C:\\Users\\SHUCHISMITA MALLICK\\AppData\\Local\\Temp\\ipykernel_4692\\1363821498.py:13: SettingWithCopyWarning: \n",
      "A value is trying to be set on a copy of a slice from a DataFrame.\n",
      "Try using .loc[row_indexer,col_indexer] = value instead\n",
      "\n",
      "See the caveats in the documentation: https://pandas.pydata.org/pandas-docs/stable/user_guide/indexing.html#returning-a-view-versus-a-copy\n",
      "  df[feature] = label_encoders[feature].transform(df[feature])\n",
      "C:\\Users\\SHUCHISMITA MALLICK\\AppData\\Local\\Temp\\ipykernel_4692\\1363821498.py:13: SettingWithCopyWarning: \n",
      "A value is trying to be set on a copy of a slice from a DataFrame.\n",
      "Try using .loc[row_indexer,col_indexer] = value instead\n",
      "\n",
      "See the caveats in the documentation: https://pandas.pydata.org/pandas-docs/stable/user_guide/indexing.html#returning-a-view-versus-a-copy\n",
      "  df[feature] = label_encoders[feature].transform(df[feature])\n",
      "C:\\Users\\SHUCHISMITA MALLICK\\AppData\\Local\\Temp\\ipykernel_4692\\1363821498.py:13: SettingWithCopyWarning: \n",
      "A value is trying to be set on a copy of a slice from a DataFrame.\n",
      "Try using .loc[row_indexer,col_indexer] = value instead\n",
      "\n",
      "See the caveats in the documentation: https://pandas.pydata.org/pandas-docs/stable/user_guide/indexing.html#returning-a-view-versus-a-copy\n",
      "  df[feature] = label_encoders[feature].transform(df[feature])\n",
      "C:\\Users\\SHUCHISMITA MALLICK\\AppData\\Local\\Temp\\ipykernel_4692\\1363821498.py:13: SettingWithCopyWarning: \n",
      "A value is trying to be set on a copy of a slice from a DataFrame.\n",
      "Try using .loc[row_indexer,col_indexer] = value instead\n",
      "\n",
      "See the caveats in the documentation: https://pandas.pydata.org/pandas-docs/stable/user_guide/indexing.html#returning-a-view-versus-a-copy\n",
      "  df[feature] = label_encoders[feature].transform(df[feature])\n",
      "C:\\Users\\SHUCHISMITA MALLICK\\AppData\\Local\\Temp\\ipykernel_4692\\1363821498.py:13: SettingWithCopyWarning: \n",
      "A value is trying to be set on a copy of a slice from a DataFrame.\n",
      "Try using .loc[row_indexer,col_indexer] = value instead\n",
      "\n",
      "See the caveats in the documentation: https://pandas.pydata.org/pandas-docs/stable/user_guide/indexing.html#returning-a-view-versus-a-copy\n",
      "  df[feature] = label_encoders[feature].transform(df[feature])\n",
      "C:\\Users\\SHUCHISMITA MALLICK\\AppData\\Local\\Temp\\ipykernel_4692\\1363821498.py:23: SettingWithCopyWarning: \n",
      "A value is trying to be set on a copy of a slice from a DataFrame.\n",
      "Try using .loc[row_indexer,col_indexer] = value instead\n",
      "\n",
      "See the caveats in the documentation: https://pandas.pydata.org/pandas-docs/stable/user_guide/indexing.html#returning-a-view-versus-a-copy\n",
      "  df[[feature]] = scaler[feature].transform(df[[feature]])\n",
      "C:\\Users\\SHUCHISMITA MALLICK\\AppData\\Local\\Temp\\ipykernel_4692\\1363821498.py:23: SettingWithCopyWarning: \n",
      "A value is trying to be set on a copy of a slice from a DataFrame.\n",
      "Try using .loc[row_indexer,col_indexer] = value instead\n",
      "\n",
      "See the caveats in the documentation: https://pandas.pydata.org/pandas-docs/stable/user_guide/indexing.html#returning-a-view-versus-a-copy\n",
      "  df[[feature]] = scaler[feature].transform(df[[feature]])\n",
      "C:\\Users\\SHUCHISMITA MALLICK\\AppData\\Local\\Temp\\ipykernel_4692\\1363821498.py:23: SettingWithCopyWarning: \n",
      "A value is trying to be set on a copy of a slice from a DataFrame.\n",
      "Try using .loc[row_indexer,col_indexer] = value instead\n",
      "\n",
      "See the caveats in the documentation: https://pandas.pydata.org/pandas-docs/stable/user_guide/indexing.html#returning-a-view-versus-a-copy\n",
      "  df[[feature]] = scaler[feature].transform(df[[feature]])\n"
     ]
    }
   ],
   "source": [
    "# Preprocess the data\n",
    "preprocessed_data = preprocess_data(df)"
   ]
  },
  {
   "cell_type": "code",
   "execution_count": 19,
   "metadata": {},
   "outputs": [],
   "source": [
    "\n",
    "\n",
    "# Make predictions\n",
    "df['Predicted Churn Status'] = model.predict(preprocessed_data)\n",
    "df['Churn Probability'] = model.predict_proba(preprocessed_data)[:, 1]\n",
    "\n",
    "# Convert predictions to human-readable format\n",
    "df['Predicted Churn Status'] = df['Predicted Churn Status'].map({1: 'Churn', 0: 'No Churn'})\n",
    "df['Churn Probability'] = df['Churn Probability'].apply(lambda x: f\"{x:.2f}\")\n",
    "\n",
    "def generate_insights(churn_status):\n",
    "    if churn_status == \"Churn\":\n",
    "        risk_level = \"High\"\n",
    "        next_steps = \"Immediate Action Required: Engage the customer with personalized offers or support.\"\n",
    "        retention_strategy = \"Consider offering discounts or loyalty programs.\"\n",
    "        revenue_impact = \"The potential loss of revenue is significant. Immediate action is required to prevent churn.\"\n",
    "    else:\n",
    "        risk_level = \"Low\"\n",
    "        next_steps = \"Monitor: Continue to monitor the customer’s activity and engagement levels.\"\n",
    "        retention_strategy = \"Consider offering a small incentive to maintain the positive relationship.\"\n",
    "        revenue_impact = \"The immediate risk to revenue is minimal, but proactive engagement can further reduce this risk.\"\n",
    "\n",
    "    return risk_level, next_steps, retention_strategy, revenue_impact\n",
    "\n",
    "\n",
    "# Save the results to a new CSV file\n",
    "output_file = r\"D:\\Portfolio Github\\customer-churn-prediction\\churn_predictions.csv\"\n",
    "df.to_csv(output_file, index=False)\n"
   ]
  },
  {
   "cell_type": "code",
   "execution_count": 18,
   "metadata": {},
   "outputs": [
    {
     "name": "stderr",
     "output_type": "stream",
     "text": [
      "C:\\Users\\SHUCHISMITA MALLICK\\AppData\\Local\\Temp\\ipykernel_4692\\1363821498.py:7: FutureWarning: DataFrame.fillna with 'method' is deprecated and will raise in a future version. Use obj.ffill() or obj.bfill() instead.\n",
      "  df.fillna(method='ffill', inplace=True)\n",
      "C:\\Users\\SHUCHISMITA MALLICK\\AppData\\Local\\Temp\\ipykernel_4692\\1363821498.py:7: SettingWithCopyWarning: \n",
      "A value is trying to be set on a copy of a slice from a DataFrame\n",
      "\n",
      "See the caveats in the documentation: https://pandas.pydata.org/pandas-docs/stable/user_guide/indexing.html#returning-a-view-versus-a-copy\n",
      "  df.fillna(method='ffill', inplace=True)\n",
      "C:\\Users\\SHUCHISMITA MALLICK\\AppData\\Local\\Temp\\ipykernel_4692\\1363821498.py:17: SettingWithCopyWarning: \n",
      "A value is trying to be set on a copy of a slice from a DataFrame.\n",
      "Try using .loc[row_indexer,col_indexer] = value instead\n",
      "\n",
      "See the caveats in the documentation: https://pandas.pydata.org/pandas-docs/stable/user_guide/indexing.html#returning-a-view-versus-a-copy\n",
      "  df[feature] = df[feature].apply(lambda x: label_encoders[feature].transform([x])[0] if x in label_encoders[feature].classes_ else np.nan)\n",
      "C:\\Users\\SHUCHISMITA MALLICK\\AppData\\Local\\Temp\\ipykernel_4692\\1363821498.py:18: FutureWarning: A value is trying to be set on a copy of a DataFrame or Series through chained assignment using an inplace method.\n",
      "The behavior will change in pandas 3.0. This inplace method will never work because the intermediate object on which we are setting values always behaves as a copy.\n",
      "\n",
      "For example, when doing 'df[col].method(value, inplace=True)', try using 'df.method({col: value}, inplace=True)' or df[col] = df[col].method(value) instead, to perform the operation inplace on the original object.\n",
      "\n",
      "\n",
      "  df[feature].fillna(label_encoders[feature].transform([label_encoders[feature].classes_[0]])[0], inplace=True)  # Assign a default value\n",
      "C:\\Users\\SHUCHISMITA MALLICK\\AppData\\Local\\Temp\\ipykernel_4692\\1363821498.py:18: SettingWithCopyWarning: \n",
      "A value is trying to be set on a copy of a slice from a DataFrame\n",
      "\n",
      "See the caveats in the documentation: https://pandas.pydata.org/pandas-docs/stable/user_guide/indexing.html#returning-a-view-versus-a-copy\n",
      "  df[feature].fillna(label_encoders[feature].transform([label_encoders[feature].classes_[0]])[0], inplace=True)  # Assign a default value\n",
      "C:\\Users\\SHUCHISMITA MALLICK\\AppData\\Local\\Temp\\ipykernel_4692\\1363821498.py:13: SettingWithCopyWarning: \n",
      "A value is trying to be set on a copy of a slice from a DataFrame.\n",
      "Try using .loc[row_indexer,col_indexer] = value instead\n",
      "\n",
      "See the caveats in the documentation: https://pandas.pydata.org/pandas-docs/stable/user_guide/indexing.html#returning-a-view-versus-a-copy\n",
      "  df[feature] = label_encoders[feature].transform(df[feature])\n",
      "C:\\Users\\SHUCHISMITA MALLICK\\AppData\\Local\\Temp\\ipykernel_4692\\1363821498.py:13: SettingWithCopyWarning: \n",
      "A value is trying to be set on a copy of a slice from a DataFrame.\n",
      "Try using .loc[row_indexer,col_indexer] = value instead\n",
      "\n",
      "See the caveats in the documentation: https://pandas.pydata.org/pandas-docs/stable/user_guide/indexing.html#returning-a-view-versus-a-copy\n",
      "  df[feature] = label_encoders[feature].transform(df[feature])\n",
      "C:\\Users\\SHUCHISMITA MALLICK\\AppData\\Local\\Temp\\ipykernel_4692\\1363821498.py:13: SettingWithCopyWarning: \n",
      "A value is trying to be set on a copy of a slice from a DataFrame.\n",
      "Try using .loc[row_indexer,col_indexer] = value instead\n",
      "\n",
      "See the caveats in the documentation: https://pandas.pydata.org/pandas-docs/stable/user_guide/indexing.html#returning-a-view-versus-a-copy\n",
      "  df[feature] = label_encoders[feature].transform(df[feature])\n",
      "C:\\Users\\SHUCHISMITA MALLICK\\AppData\\Local\\Temp\\ipykernel_4692\\1363821498.py:13: SettingWithCopyWarning: \n",
      "A value is trying to be set on a copy of a slice from a DataFrame.\n",
      "Try using .loc[row_indexer,col_indexer] = value instead\n",
      "\n",
      "See the caveats in the documentation: https://pandas.pydata.org/pandas-docs/stable/user_guide/indexing.html#returning-a-view-versus-a-copy\n",
      "  df[feature] = label_encoders[feature].transform(df[feature])\n",
      "C:\\Users\\SHUCHISMITA MALLICK\\AppData\\Local\\Temp\\ipykernel_4692\\1363821498.py:13: SettingWithCopyWarning: \n",
      "A value is trying to be set on a copy of a slice from a DataFrame.\n",
      "Try using .loc[row_indexer,col_indexer] = value instead\n",
      "\n",
      "See the caveats in the documentation: https://pandas.pydata.org/pandas-docs/stable/user_guide/indexing.html#returning-a-view-versus-a-copy\n",
      "  df[feature] = label_encoders[feature].transform(df[feature])\n",
      "C:\\Users\\SHUCHISMITA MALLICK\\AppData\\Local\\Temp\\ipykernel_4692\\1363821498.py:23: SettingWithCopyWarning: \n",
      "A value is trying to be set on a copy of a slice from a DataFrame.\n",
      "Try using .loc[row_indexer,col_indexer] = value instead\n",
      "\n",
      "See the caveats in the documentation: https://pandas.pydata.org/pandas-docs/stable/user_guide/indexing.html#returning-a-view-versus-a-copy\n",
      "  df[[feature]] = scaler[feature].transform(df[[feature]])\n",
      "C:\\Users\\SHUCHISMITA MALLICK\\AppData\\Local\\Temp\\ipykernel_4692\\1363821498.py:23: SettingWithCopyWarning: \n",
      "A value is trying to be set on a copy of a slice from a DataFrame.\n",
      "Try using .loc[row_indexer,col_indexer] = value instead\n",
      "\n",
      "See the caveats in the documentation: https://pandas.pydata.org/pandas-docs/stable/user_guide/indexing.html#returning-a-view-versus-a-copy\n",
      "  df[[feature]] = scaler[feature].transform(df[[feature]])\n",
      "C:\\Users\\SHUCHISMITA MALLICK\\AppData\\Local\\Temp\\ipykernel_4692\\1363821498.py:23: SettingWithCopyWarning: \n",
      "A value is trying to be set on a copy of a slice from a DataFrame.\n",
      "Try using .loc[row_indexer,col_indexer] = value instead\n",
      "\n",
      "See the caveats in the documentation: https://pandas.pydata.org/pandas-docs/stable/user_guide/indexing.html#returning-a-view-versus-a-copy\n",
      "  df[[feature]] = scaler[feature].transform(df[[feature]])\n"
     ]
    },
    {
     "name": "stdout",
     "output_type": "stream",
     "text": [
      "Warning: Unseen label '[90089]' encountered. Assigning default value.\n",
      "The predicted churn status is: No Churn\n",
      "The probability of churn is: 0.34\n"
     ]
    }
   ],
   "source": [
    "input_data = pd.DataFrame([\n",
    "    [12345, \"Fiber optic\", \"Yes\", \"Yes\", \"Month-to-month\", \"No\", 12, 75.3, 1890.50]\n",
    "])\n",
    "\n",
    "# Preprocess the input data\n",
    "preprocessed_data = preprocess_data(df)\n",
    "    \n",
    "# Make prediction\n",
    "prediction = model.predict(preprocessed_data)\n",
    "churn_prob = model.predict_proba(preprocessed_data)[0][1]\n",
    "print(f'The predicted churn status is: {\"Churn\" if prediction[0] == 1 else \"No Churn\"}')\n",
    "print(f'The probability of churn is: {churn_prob:.2f}')       "
   ]
  },
  {
   "cell_type": "code",
   "execution_count": null,
   "metadata": {},
   "outputs": [],
   "source": []
  }
 ],
 "metadata": {
  "kernelspec": {
   "display_name": "mygitenv",
   "language": "python",
   "name": "python3"
  },
  "language_info": {
   "codemirror_mode": {
    "name": "ipython",
    "version": 3
   },
   "file_extension": ".py",
   "mimetype": "text/x-python",
   "name": "python",
   "nbconvert_exporter": "python",
   "pygments_lexer": "ipython3",
   "version": "3.10.14"
  }
 },
 "nbformat": 4,
 "nbformat_minor": 2
}
